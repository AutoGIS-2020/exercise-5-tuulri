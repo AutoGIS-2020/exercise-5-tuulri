{
 "cells": [
  {
   "cell_type": "markdown",
   "metadata": {},
   "source": [
    "Excercise 5\n",
    "\n",
    "Problem 1. Creating a static map showing travel times to Forum within 10 km distance using public transport"
   ]
  },
  {
   "cell_type": "code",
   "execution_count": 1,
   "metadata": {},
   "outputs": [],
   "source": [
    "import pandas as pd\n",
    "import geopandas as gpd\n",
    "import matplotlib.pyplot as plt\n",
    "\n",
    "# Define file path and read in the polygon grid for metropolitan area\n",
    "fp = r'data/MetropAccess_YKR_grid_EurefFIN.shp'\n",
    "\n",
    "grid = gpd.read_file(fp)"
   ]
  },
  {
   "cell_type": "code",
   "execution_count": 9,
   "metadata": {},
   "outputs": [
    {
     "name": "stdout",
     "output_type": "stream",
     "text": [
      "epsg:3067\n"
     ]
    }
   ],
   "source": [
    "grid.head()\n",
    "print(grid.crs)"
   ]
  },
  {
   "cell_type": "code",
   "execution_count": 6,
   "metadata": {},
   "outputs": [
    {
     "data": {
      "text/html": [
       "<div>\n",
       "<style scoped>\n",
       "    .dataframe tbody tr th:only-of-type {\n",
       "        vertical-align: middle;\n",
       "    }\n",
       "\n",
       "    .dataframe tbody tr th {\n",
       "        vertical-align: top;\n",
       "    }\n",
       "\n",
       "    .dataframe thead th {\n",
       "        text-align: right;\n",
       "    }\n",
       "</style>\n",
       "<table border=\"1\" class=\"dataframe\">\n",
       "  <thead>\n",
       "    <tr style=\"text-align: right;\">\n",
       "      <th></th>\n",
       "      <th>pt_r_t</th>\n",
       "      <th>pt_r_d</th>\n",
       "      <th>YKR_ID</th>\n",
       "      <th>to_id</th>\n",
       "    </tr>\n",
       "  </thead>\n",
       "  <tbody>\n",
       "    <tr>\n",
       "      <th>0</th>\n",
       "      <td>110</td>\n",
       "      <td>32758</td>\n",
       "      <td>5785640</td>\n",
       "      <td>5975373</td>\n",
       "    </tr>\n",
       "    <tr>\n",
       "      <th>1</th>\n",
       "      <td>113</td>\n",
       "      <td>32964</td>\n",
       "      <td>5785641</td>\n",
       "      <td>5975373</td>\n",
       "    </tr>\n",
       "    <tr>\n",
       "      <th>2</th>\n",
       "      <td>115</td>\n",
       "      <td>33082</td>\n",
       "      <td>5785642</td>\n",
       "      <td>5975373</td>\n",
       "    </tr>\n",
       "    <tr>\n",
       "      <th>3</th>\n",
       "      <td>119</td>\n",
       "      <td>33375</td>\n",
       "      <td>5785643</td>\n",
       "      <td>5975373</td>\n",
       "    </tr>\n",
       "    <tr>\n",
       "      <th>4</th>\n",
       "      <td>103</td>\n",
       "      <td>32269</td>\n",
       "      <td>5787544</td>\n",
       "      <td>5975373</td>\n",
       "    </tr>\n",
       "  </tbody>\n",
       "</table>\n",
       "</div>"
      ],
      "text/plain": [
       "   pt_r_t  pt_r_d   YKR_ID    to_id\n",
       "0     110   32758  5785640  5975373\n",
       "1     113   32964  5785641  5975373\n",
       "2     115   33082  5785642  5975373\n",
       "3     119   33375  5785643  5975373\n",
       "4     103   32269  5787544  5975373"
      ]
     },
     "execution_count": 6,
     "metadata": {},
     "output_type": "execute_result"
    }
   ],
   "source": [
    "#Read in the travel time data for Forum\n",
    "fp2 = r'data/TravelTimes_to_5975373_Forum.txt'\n",
    "\n",
    "data = pd.read_csv(fp2, sep=';')\n",
    "\n",
    "# Keep only useful columns \n",
    "data = data[['pt_r_t', 'pt_r_d','from_id','to_id']]\n",
    "data.head()\n",
    "# Rename 'from_id' to 'YKR_ID' to match with grid\n",
    "data = data.rename(columns={'from_id':'YKR_ID'})\n",
    "data.head()"
   ]
  },
  {
   "cell_type": "code",
   "execution_count": 7,
   "metadata": {},
   "outputs": [
    {
     "data": {
      "text/html": [
       "<div>\n",
       "<style scoped>\n",
       "    .dataframe tbody tr th:only-of-type {\n",
       "        vertical-align: middle;\n",
       "    }\n",
       "\n",
       "    .dataframe tbody tr th {\n",
       "        vertical-align: top;\n",
       "    }\n",
       "\n",
       "    .dataframe thead th {\n",
       "        text-align: right;\n",
       "    }\n",
       "</style>\n",
       "<table border=\"1\" class=\"dataframe\">\n",
       "  <thead>\n",
       "    <tr style=\"text-align: right;\">\n",
       "      <th></th>\n",
       "      <th>x</th>\n",
       "      <th>y</th>\n",
       "      <th>YKR_ID</th>\n",
       "      <th>geometry</th>\n",
       "      <th>pt_r_t</th>\n",
       "      <th>pt_r_d</th>\n",
       "      <th>to_id</th>\n",
       "    </tr>\n",
       "  </thead>\n",
       "  <tbody>\n",
       "    <tr>\n",
       "      <th>0</th>\n",
       "      <td>381875.0</td>\n",
       "      <td>6697880.0</td>\n",
       "      <td>5785640</td>\n",
       "      <td>POLYGON ((382000.000 6697750.000, 381750.000 6...</td>\n",
       "      <td>110</td>\n",
       "      <td>32758</td>\n",
       "      <td>5975373</td>\n",
       "    </tr>\n",
       "    <tr>\n",
       "      <th>1</th>\n",
       "      <td>382125.0</td>\n",
       "      <td>6697880.0</td>\n",
       "      <td>5785641</td>\n",
       "      <td>POLYGON ((382250.000 6697750.000, 382000.000 6...</td>\n",
       "      <td>113</td>\n",
       "      <td>32964</td>\n",
       "      <td>5975373</td>\n",
       "    </tr>\n",
       "    <tr>\n",
       "      <th>2</th>\n",
       "      <td>382375.0</td>\n",
       "      <td>6697880.0</td>\n",
       "      <td>5785642</td>\n",
       "      <td>POLYGON ((382500.000 6697750.000, 382250.000 6...</td>\n",
       "      <td>115</td>\n",
       "      <td>33082</td>\n",
       "      <td>5975373</td>\n",
       "    </tr>\n",
       "    <tr>\n",
       "      <th>3</th>\n",
       "      <td>382625.0</td>\n",
       "      <td>6697880.0</td>\n",
       "      <td>5785643</td>\n",
       "      <td>POLYGON ((382750.000 6697750.000, 382500.000 6...</td>\n",
       "      <td>119</td>\n",
       "      <td>33375</td>\n",
       "      <td>5975373</td>\n",
       "    </tr>\n",
       "    <tr>\n",
       "      <th>4</th>\n",
       "      <td>381125.0</td>\n",
       "      <td>6697630.0</td>\n",
       "      <td>5787544</td>\n",
       "      <td>POLYGON ((381250.000 6697500.000, 381000.000 6...</td>\n",
       "      <td>103</td>\n",
       "      <td>32269</td>\n",
       "      <td>5975373</td>\n",
       "    </tr>\n",
       "  </tbody>\n",
       "</table>\n",
       "</div>"
      ],
      "text/plain": [
       "          x          y   YKR_ID  \\\n",
       "0  381875.0  6697880.0  5785640   \n",
       "1  382125.0  6697880.0  5785641   \n",
       "2  382375.0  6697880.0  5785642   \n",
       "3  382625.0  6697880.0  5785643   \n",
       "4  381125.0  6697630.0  5787544   \n",
       "\n",
       "                                            geometry  pt_r_t  pt_r_d    to_id  \n",
       "0  POLYGON ((382000.000 6697750.000, 381750.000 6...     110   32758  5975373  \n",
       "1  POLYGON ((382250.000 6697750.000, 382000.000 6...     113   32964  5975373  \n",
       "2  POLYGON ((382500.000 6697750.000, 382250.000 6...     115   33082  5975373  \n",
       "3  POLYGON ((382750.000 6697750.000, 382500.000 6...     119   33375  5975373  \n",
       "4  POLYGON ((381250.000 6697500.000, 381000.000 6...     103   32269  5975373  "
      ]
     },
     "execution_count": 7,
     "metadata": {},
     "output_type": "execute_result"
    }
   ],
   "source": [
    "# Join attributes from data to grid\n",
    "data_geo = grid.merge(data, how='inner', on='YKR_ID')\n",
    "data_geo.head()"
   ]
  },
  {
   "cell_type": "code",
   "execution_count": 8,
   "metadata": {},
   "outputs": [
    {
     "data": {
      "text/plain": [
       "x           0\n",
       "y           0\n",
       "YKR_ID      0\n",
       "geometry    0\n",
       "pt_r_t      0\n",
       "pt_r_d      0\n",
       "to_id       0\n",
       "dtype: int64"
      ]
     },
     "execution_count": 8,
     "metadata": {},
     "output_type": "execute_result"
    }
   ],
   "source": [
    "import numpy as np\n",
    "# Remove no-data values (i.e. -1) from the data \n",
    "# First, replace -1 with 'NaN'\n",
    "data_geo = data_geo.replace(-1, np.nan)\n",
    "\n",
    "# Then, drop na rows\n",
    "data_geo = data_geo.dropna()\n",
    "\n",
    "# Check there are no no-data values left in the data\n",
    "data_geo.isna().sum()"
   ]
  },
  {
   "cell_type": "code",
   "execution_count": 28,
   "metadata": {},
   "outputs": [
    {
     "name": "stdout",
     "output_type": "stream",
     "text": [
      "epsg:3067\n"
     ]
    },
    {
     "data": {
      "text/plain": [
       "13020"
      ]
     },
     "execution_count": 28,
     "metadata": {},
     "output_type": "execute_result"
    }
   ],
   "source": [
    "print(data_geo.crs)\n",
    "len(data_geo)\n"
   ]
  },
  {
   "cell_type": "code",
   "execution_count": 20,
   "metadata": {},
   "outputs": [
    {
     "name": "stdout",
     "output_type": "stream",
     "text": [
      "epsg:3879\n"
     ]
    },
    {
     "data": {
      "text/html": [
       "<div>\n",
       "<style scoped>\n",
       "    .dataframe tbody tr th:only-of-type {\n",
       "        vertical-align: middle;\n",
       "    }\n",
       "\n",
       "    .dataframe tbody tr th {\n",
       "        vertical-align: top;\n",
       "    }\n",
       "\n",
       "    .dataframe thead th {\n",
       "        text-align: right;\n",
       "    }\n",
       "</style>\n",
       "<table border=\"1\" class=\"dataframe\">\n",
       "  <thead>\n",
       "    <tr style=\"text-align: right;\">\n",
       "      <th></th>\n",
       "      <th>address</th>\n",
       "      <th>id</th>\n",
       "      <th>name</th>\n",
       "      <th>addr</th>\n",
       "      <th>geometry</th>\n",
       "    </tr>\n",
       "  </thead>\n",
       "  <tbody>\n",
       "    <tr>\n",
       "      <th>0</th>\n",
       "      <td>Kauppakeskus Itis, 1-7, Itäkatu, Itäkeskus, Va...</td>\n",
       "      <td>1</td>\n",
       "      <td>Itis</td>\n",
       "      <td>Itäkatu 1-7, 00930 Helsinki, Finland</td>\n",
       "      <td>POINT (25504598.602 6677662.109)</td>\n",
       "    </tr>\n",
       "    <tr>\n",
       "      <th>1</th>\n",
       "      <td>Apollo Street Bar, 20, Mannerheimintie, Keskus...</td>\n",
       "      <td>2</td>\n",
       "      <td>Forum</td>\n",
       "      <td>Mannerheimintie 20, 00100 Helsinki, Finland</td>\n",
       "      <td>POINT (25496590.247 6672895.892)</td>\n",
       "    </tr>\n",
       "    <tr>\n",
       "      <th>2</th>\n",
       "      <td>Sports Academy, 11, Piispansilta, Nuottaniemi,...</td>\n",
       "      <td>3</td>\n",
       "      <td>Iso-omena</td>\n",
       "      <td>Piispansilta 11, 02230 Espoo, Finland</td>\n",
       "      <td>POINT (25485440.532 6672255.563)</td>\n",
       "    </tr>\n",
       "    <tr>\n",
       "      <th>3</th>\n",
       "      <td>Lasten kappeli Arkki, 3-9, Leppävaarankatu, Et...</td>\n",
       "      <td>4</td>\n",
       "      <td>Sello</td>\n",
       "      <td>Leppävaarankatu 3-9, 02600 Espoo, Finland</td>\n",
       "      <td>POINT (25489491.076 6678322.265)</td>\n",
       "    </tr>\n",
       "    <tr>\n",
       "      <th>4</th>\n",
       "      <td>Stockmann, 3, Vantaanportinkatu, Pakkala, Avia...</td>\n",
       "      <td>5</td>\n",
       "      <td>Jumbo</td>\n",
       "      <td>Vantaanportinkatu 3, 01510 Vantaa, Finland</td>\n",
       "      <td>POINT (25497943.932 6686656.982)</td>\n",
       "    </tr>\n",
       "  </tbody>\n",
       "</table>\n",
       "</div>"
      ],
      "text/plain": [
       "                                             address  id       name  \\\n",
       "0  Kauppakeskus Itis, 1-7, Itäkatu, Itäkeskus, Va...   1       Itis   \n",
       "1  Apollo Street Bar, 20, Mannerheimintie, Keskus...   2      Forum   \n",
       "2  Sports Academy, 11, Piispansilta, Nuottaniemi,...   3  Iso-omena   \n",
       "3  Lasten kappeli Arkki, 3-9, Leppävaarankatu, Et...   4      Sello   \n",
       "4  Stockmann, 3, Vantaanportinkatu, Pakkala, Avia...   5      Jumbo   \n",
       "\n",
       "                                          addr  \\\n",
       "0         Itäkatu 1-7, 00930 Helsinki, Finland   \n",
       "1  Mannerheimintie 20, 00100 Helsinki, Finland   \n",
       "2        Piispansilta 11, 02230 Espoo, Finland   \n",
       "3    Leppävaarankatu 3-9, 02600 Espoo, Finland   \n",
       "4   Vantaanportinkatu 3, 01510 Vantaa, Finland   \n",
       "\n",
       "                           geometry  \n",
       "0  POINT (25504598.602 6677662.109)  \n",
       "1  POINT (25496590.247 6672895.892)  \n",
       "2  POINT (25485440.532 6672255.563)  \n",
       "3  POINT (25489491.076 6678322.265)  \n",
       "4  POINT (25497943.932 6686656.982)  "
      ]
     },
     "execution_count": 20,
     "metadata": {},
     "output_type": "execute_result"
    }
   ],
   "source": [
    "# Read in shopping center locations\n",
    "fp3 = r'data/shopping_centers.shp'\n",
    "\n",
    "SCs= gpd.read_file(fp3)\n",
    "print(SCs.crs)\n",
    "SCs.head()\n"
   ]
  },
  {
   "cell_type": "code",
   "execution_count": 13,
   "metadata": {},
   "outputs": [
    {
     "ename": "AssertionError",
     "evalue": "Coordinate systems do not match",
     "output_type": "error",
     "traceback": [
      "\u001b[0;31m---------------------------------------------------------------------------\u001b[0m",
      "\u001b[0;31mAssertionError\u001b[0m                            Traceback (most recent call last)",
      "\u001b[0;32m<ipython-input-13-b4d90215c8ed>\u001b[0m in \u001b[0;36m<module>\u001b[0;34m\u001b[0m\n\u001b[1;32m      1\u001b[0m \u001b[0;31m# Check if coordinate systems of data_geo and SCs match\u001b[0m\u001b[0;34m\u001b[0m\u001b[0;34m\u001b[0m\u001b[0;34m\u001b[0m\u001b[0m\n\u001b[0;32m----> 2\u001b[0;31m \u001b[0;32massert\u001b[0m \u001b[0mdata_geo\u001b[0m\u001b[0;34m.\u001b[0m\u001b[0mcrs\u001b[0m \u001b[0;34m==\u001b[0m \u001b[0mSCs\u001b[0m\u001b[0;34m.\u001b[0m\u001b[0mcrs\u001b[0m\u001b[0;34m,\u001b[0m \u001b[0;34m'Coordinate systems do not match'\u001b[0m\u001b[0;34m\u001b[0m\u001b[0;34m\u001b[0m\u001b[0m\n\u001b[0m",
      "\u001b[0;31mAssertionError\u001b[0m: Coordinate systems do not match"
     ]
    }
   ],
   "source": [
    "# Check if coordinate systems of data_geo and SCs match\n",
    "assert data_geo.crs == SCs.crs, 'Coordinate systems do not match'"
   ]
  },
  {
   "cell_type": "code",
   "execution_count": 29,
   "metadata": {},
   "outputs": [
    {
     "name": "stdout",
     "output_type": "stream",
     "text": [
      "epsg:3067\n"
     ]
    }
   ],
   "source": [
    "# Reproject shopping center data to grid coordinate system (EPSG=3067)\n",
    "SCs = SCs.to_crs(crs=grid.crs)\n",
    "print(SCs.crs)\n",
    "\n",
    "# Double check that coordinates match\n",
    "assert data_geo.crs == SCs.crs, 'Coordinate systems do not match'"
   ]
  },
  {
   "cell_type": "code",
   "execution_count": 31,
   "metadata": {},
   "outputs": [
    {
     "name": "stdout",
     "output_type": "stream",
     "text": [
      "epsg:3067\n"
     ]
    },
    {
     "data": {
      "text/html": [
       "<div>\n",
       "<style scoped>\n",
       "    .dataframe tbody tr th:only-of-type {\n",
       "        vertical-align: middle;\n",
       "    }\n",
       "\n",
       "    .dataframe tbody tr th {\n",
       "        vertical-align: top;\n",
       "    }\n",
       "\n",
       "    .dataframe thead th {\n",
       "        text-align: right;\n",
       "    }\n",
       "</style>\n",
       "<table border=\"1\" class=\"dataframe\">\n",
       "  <thead>\n",
       "    <tr style=\"text-align: right;\">\n",
       "      <th></th>\n",
       "      <th>x</th>\n",
       "      <th>y</th>\n",
       "      <th>YKR_ID</th>\n",
       "      <th>geometry</th>\n",
       "      <th>pt_r_t</th>\n",
       "      <th>pt_r_d</th>\n",
       "      <th>to_id</th>\n",
       "      <th>index_right</th>\n",
       "      <th>address</th>\n",
       "      <th>id</th>\n",
       "      <th>name</th>\n",
       "      <th>addr</th>\n",
       "      <th>buffer</th>\n",
       "    </tr>\n",
       "  </thead>\n",
       "  <tbody>\n",
       "    <tr>\n",
       "      <th>6747</th>\n",
       "      <td>385625.0</td>\n",
       "      <td>6681880.0</td>\n",
       "      <td>5905734</td>\n",
       "      <td>POLYGON ((385750.000 6681750.000, 385500.000 6...</td>\n",
       "      <td>45.0</td>\n",
       "      <td>13410.0</td>\n",
       "      <td>5975373.0</td>\n",
       "      <td>1</td>\n",
       "      <td>Apollo Street Bar, 20, Mannerheimintie, Keskus...</td>\n",
       "      <td>2</td>\n",
       "      <td>Forum</td>\n",
       "      <td>Mannerheimintie 20, 00100 Helsinki, Finland</td>\n",
       "      <td>POLYGON ((395617.936 6672010.442, 395569.783 6...</td>\n",
       "    </tr>\n",
       "    <tr>\n",
       "      <th>6898</th>\n",
       "      <td>383625.0</td>\n",
       "      <td>6681630.0</td>\n",
       "      <td>5907560</td>\n",
       "      <td>POLYGON ((383750.000 6681500.000, 383500.000 6...</td>\n",
       "      <td>38.0</td>\n",
       "      <td>11502.0</td>\n",
       "      <td>5975373.0</td>\n",
       "      <td>1</td>\n",
       "      <td>Apollo Street Bar, 20, Mannerheimintie, Keskus...</td>\n",
       "      <td>2</td>\n",
       "      <td>Forum</td>\n",
       "      <td>Mannerheimintie 20, 00100 Helsinki, Finland</td>\n",
       "      <td>POLYGON ((395617.936 6672010.442, 395569.783 6...</td>\n",
       "    </tr>\n",
       "    <tr>\n",
       "      <th>6899</th>\n",
       "      <td>383875.0</td>\n",
       "      <td>6681630.0</td>\n",
       "      <td>5907561</td>\n",
       "      <td>POLYGON ((384000.000 6681500.000, 383750.000 6...</td>\n",
       "      <td>40.0</td>\n",
       "      <td>10923.0</td>\n",
       "      <td>5975373.0</td>\n",
       "      <td>1</td>\n",
       "      <td>Apollo Street Bar, 20, Mannerheimintie, Keskus...</td>\n",
       "      <td>2</td>\n",
       "      <td>Forum</td>\n",
       "      <td>Mannerheimintie 20, 00100 Helsinki, Finland</td>\n",
       "      <td>POLYGON ((395617.936 6672010.442, 395569.783 6...</td>\n",
       "    </tr>\n",
       "    <tr>\n",
       "      <th>6900</th>\n",
       "      <td>384125.0</td>\n",
       "      <td>6681630.0</td>\n",
       "      <td>5907562</td>\n",
       "      <td>POLYGON ((384250.000 6681500.000, 384000.000 6...</td>\n",
       "      <td>46.0</td>\n",
       "      <td>12593.0</td>\n",
       "      <td>5975373.0</td>\n",
       "      <td>1</td>\n",
       "      <td>Apollo Street Bar, 20, Mannerheimintie, Keskus...</td>\n",
       "      <td>2</td>\n",
       "      <td>Forum</td>\n",
       "      <td>Mannerheimintie 20, 00100 Helsinki, Finland</td>\n",
       "      <td>POLYGON ((395617.936 6672010.442, 395569.783 6...</td>\n",
       "    </tr>\n",
       "    <tr>\n",
       "      <th>6901</th>\n",
       "      <td>384375.0</td>\n",
       "      <td>6681630.0</td>\n",
       "      <td>5907563</td>\n",
       "      <td>POLYGON ((384500.000 6681500.000, 384250.000 6...</td>\n",
       "      <td>47.0</td>\n",
       "      <td>11699.0</td>\n",
       "      <td>5975373.0</td>\n",
       "      <td>1</td>\n",
       "      <td>Apollo Street Bar, 20, Mannerheimintie, Keskus...</td>\n",
       "      <td>2</td>\n",
       "      <td>Forum</td>\n",
       "      <td>Mannerheimintie 20, 00100 Helsinki, Finland</td>\n",
       "      <td>POLYGON ((395617.936 6672010.442, 395569.783 6...</td>\n",
       "    </tr>\n",
       "  </tbody>\n",
       "</table>\n",
       "</div>"
      ],
      "text/plain": [
       "             x          y   YKR_ID  \\\n",
       "6747  385625.0  6681880.0  5905734   \n",
       "6898  383625.0  6681630.0  5907560   \n",
       "6899  383875.0  6681630.0  5907561   \n",
       "6900  384125.0  6681630.0  5907562   \n",
       "6901  384375.0  6681630.0  5907563   \n",
       "\n",
       "                                               geometry  pt_r_t   pt_r_d  \\\n",
       "6747  POLYGON ((385750.000 6681750.000, 385500.000 6...    45.0  13410.0   \n",
       "6898  POLYGON ((383750.000 6681500.000, 383500.000 6...    38.0  11502.0   \n",
       "6899  POLYGON ((384000.000 6681500.000, 383750.000 6...    40.0  10923.0   \n",
       "6900  POLYGON ((384250.000 6681500.000, 384000.000 6...    46.0  12593.0   \n",
       "6901  POLYGON ((384500.000 6681500.000, 384250.000 6...    47.0  11699.0   \n",
       "\n",
       "          to_id  index_right  \\\n",
       "6747  5975373.0            1   \n",
       "6898  5975373.0            1   \n",
       "6899  5975373.0            1   \n",
       "6900  5975373.0            1   \n",
       "6901  5975373.0            1   \n",
       "\n",
       "                                                address  id   name  \\\n",
       "6747  Apollo Street Bar, 20, Mannerheimintie, Keskus...   2  Forum   \n",
       "6898  Apollo Street Bar, 20, Mannerheimintie, Keskus...   2  Forum   \n",
       "6899  Apollo Street Bar, 20, Mannerheimintie, Keskus...   2  Forum   \n",
       "6900  Apollo Street Bar, 20, Mannerheimintie, Keskus...   2  Forum   \n",
       "6901  Apollo Street Bar, 20, Mannerheimintie, Keskus...   2  Forum   \n",
       "\n",
       "                                             addr  \\\n",
       "6747  Mannerheimintie 20, 00100 Helsinki, Finland   \n",
       "6898  Mannerheimintie 20, 00100 Helsinki, Finland   \n",
       "6899  Mannerheimintie 20, 00100 Helsinki, Finland   \n",
       "6900  Mannerheimintie 20, 00100 Helsinki, Finland   \n",
       "6901  Mannerheimintie 20, 00100 Helsinki, Finland   \n",
       "\n",
       "                                                 buffer  \n",
       "6747  POLYGON ((395617.936 6672010.442, 395569.783 6...  \n",
       "6898  POLYGON ((395617.936 6672010.442, 395569.783 6...  \n",
       "6899  POLYGON ((395617.936 6672010.442, 395569.783 6...  \n",
       "6900  POLYGON ((395617.936 6672010.442, 395569.783 6...  \n",
       "6901  POLYGON ((395617.936 6672010.442, 395569.783 6...  "
      ]
     },
     "execution_count": 31,
     "metadata": {},
     "output_type": "execute_result"
    }
   ],
   "source": [
    "# Take only Forum\n",
    "forum = SCs.loc[SCs['name'] == 'Forum']\n",
    "type(forum)\n",
    "\n",
    "print(forum.crs)\n",
    "forum = forum.to_crs(crs=data_geo.crs)\n",
    "\n",
    "# Calculate a 10 km buffer around Forum\n",
    "forum['buffer'] = forum.buffer(10000)\n",
    "forum.head()\n",
    "\n",
    "# Replace point geometry values with buffer values\n",
    "forum['geometry'] = forum['buffer']\n",
    "\n",
    "# Create a spatial join between grid layer and buffer layer. \n",
    "joined = gpd.sjoin(data_geo, forum, how=\"inner\", op=\"within\")\n",
    "joined.head()\n",
    "\n",
    "print(len(joined))"
   ]
  },
  {
   "cell_type": "code",
   "execution_count": 38,
   "metadata": {},
   "outputs": [
    {
     "data": {
      "text/plain": [
       "<AxesSubplot:>"
      ]
     },
     "execution_count": 38,
     "metadata": {},
     "output_type": "execute_result"
    },
    {
     "data": {
      "image/png": "[encoded data removed]",
      "text/plain": [
       "<Figure size 720x360 with 1 Axes>"
      ]
     },
     "metadata": {
      "needs_background": "light"
     },
     "output_type": "display_data"
    }
   ],
   "source": [
    "fig, ax=plt.subplots(figsize=(10,5))\n",
    "\n",
    "grid.plot(ax=ax)\n",
    "joined.plot(ax=ax,column='pt_r_t', scheme='quantiles', k=9)\n"
   ]
  },
  {
   "cell_type": "code",
   "execution_count": 18,
   "metadata": {},
   "outputs": [
    {
     "data": {
      "text/plain": [
       "24263"
      ]
     },
     "execution_count": 18,
     "metadata": {},
     "output_type": "execute_result"
    }
   ],
   "source": []
  },
  {
   "cell_type": "code",
   "execution_count": null,
   "metadata": {},
   "outputs": [],
   "source": []
  }
 ],
 "metadata": {
  "kernelspec": {
   "display_name": "Python 3",
   "language": "python",
   "name": "python3"
  },
  "language_info": {
   "codemirror_mode": {
    "name": "ipython",
    "version": 3
   },
   "file_extension": ".py",
   "mimetype": "text/x-python",
   "name": "python",
   "nbconvert_exporter": "python",
   "pygments_lexer": "ipython3",
   "version": "3.8.6"
  }
 },
 "nbformat": 4,
 "nbformat_minor": 4
}
